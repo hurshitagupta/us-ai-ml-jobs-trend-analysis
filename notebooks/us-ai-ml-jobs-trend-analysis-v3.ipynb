{
 "cells": [
  {
   "cell_type": "markdown",
   "metadata": {},
   "source": [
    "# Exploring AI & ML Job Trends in the U.S.\n",
    "\n",
    "#### Notebook Version: v1  \n",
    "**Focus**: Dataset loading and basic structural preview  \n",
    "\n",
    "This notebook is part of a versioned project exploring trends in AI/ML job postings in the U.S.  \n",
    "This version focuses on loading the dataset, checking its structure, and identifying surface-level issues.\n"
   ]
  },
  {
   "cell_type": "code",
   "execution_count": null,
   "metadata": {
    "_cell_guid": "b1076dfc-b9ad-4769-8c92-a6c4dae69d19",
    "_uuid": "8f2839f25d086af736a60e9eeb907d3b93b6e0e5",
    "execution": {
     "iopub.execute_input": "2025-08-01T08:11:01.279173Z",
     "iopub.status.busy": "2025-08-01T08:11:01.278939Z",
     "iopub.status.idle": "2025-08-01T08:11:01.285936Z",
     "shell.execute_reply": "2025-08-01T08:11:01.285045Z",
     "shell.execute_reply.started": "2025-08-01T08:11:01.279154Z"
    },
    "trusted": true
   },
   "outputs": [],
   "source": [
    "#importing the necessary libraries\n",
    "import numpy as np \n",
    "import pandas as pd \n",
    "\n",
    "import os\n",
    "for dirname, _, filenames in os.walk('/kaggle/input'):\n",
    "    for filename in filenames:\n",
    "        print(os.path.join(dirname, filename))"
   ]
  },
  {
   "cell_type": "markdown",
   "metadata": {},
   "source": [
    "## Dataset Overview\n",
    "\n",
    "- Source: Kaggle – AI and ML Job Listings USA  \n",
    "- File path: `/kaggle/input/ai-and-ml-job-listings-usa/ai_ml_jobs_linkedin.csv"
   ]
  },
  {
   "cell_type": "markdown",
   "metadata": {},
   "source": [
    "## Load and Preview Data\n",
    "\n",
    "Loading the dataset into a DataFrame and preview the structure to understand its basic layout.\n"
   ]
  },
  {
   "cell_type": "code",
   "execution_count": null,
   "metadata": {
    "execution": {
     "iopub.execute_input": "2025-08-01T08:11:04.520354Z",
     "iopub.status.busy": "2025-08-01T08:11:04.520038Z",
     "iopub.status.idle": "2025-08-01T08:11:04.639264Z",
     "shell.execute_reply": "2025-08-01T08:11:04.638270Z",
     "shell.execute_reply.started": "2025-08-01T08:11:04.520330Z"
    },
    "trusted": true
   },
   "outputs": [],
   "source": [
    "# Load the dataset\n",
    "us_jobs_df = pd.read_csv('/kaggle/input/ai-and-ml-job-listings-usa/ai_ml_jobs_linkedin.csv')\n",
    "\n",
    "# Create a working copy\n",
    "jobs_df = us_jobs_df.copy()"
   ]
  },
  {
   "cell_type": "code",
   "execution_count": null,
   "metadata": {
    "execution": {
     "iopub.execute_input": "2025-08-01T05:43:06.070763Z",
     "iopub.status.busy": "2025-08-01T05:43:06.070351Z",
     "iopub.status.idle": "2025-08-01T05:43:06.103121Z",
     "shell.execute_reply": "2025-08-01T05:43:06.099545Z",
     "shell.execute_reply.started": "2025-08-01T05:43:06.070727Z"
    },
    "trusted": true
   },
   "outputs": [],
   "source": [
    "# Preview first 2 rows\n",
    "jobs_df.head(2)\n"
   ]
  },
  {
   "cell_type": "code",
   "execution_count": null,
   "metadata": {
    "execution": {
     "iopub.execute_input": "2025-08-01T08:11:09.354793Z",
     "iopub.status.busy": "2025-08-01T08:11:09.354333Z",
     "iopub.status.idle": "2025-08-01T08:11:09.381417Z",
     "shell.execute_reply": "2025-08-01T08:11:09.380307Z",
     "shell.execute_reply.started": "2025-08-01T08:11:09.354762Z"
    },
    "trusted": true
   },
   "outputs": [],
   "source": [
    "# Check dataset shape\n",
    "print(f\"Rows: {jobs_df.shape[0]}, Columns: {jobs_df.shape[1]}\")\n",
    "\n",
    "# Data types and non-null info\n",
    "jobs_df.info()"
   ]
  },
  {
   "cell_type": "code",
   "execution_count": null,
   "metadata": {
    "execution": {
     "iopub.execute_input": "2025-08-01T05:43:13.264755Z",
     "iopub.status.busy": "2025-08-01T05:43:13.264443Z",
     "iopub.status.idle": "2025-08-01T05:43:13.292328Z",
     "shell.execute_reply": "2025-08-01T05:43:13.291634Z",
     "shell.execute_reply.started": "2025-08-01T05:43:13.264732Z"
    },
    "trusted": true
   },
   "outputs": [],
   "source": [
    "# Summary stats for numeric columns\n",
    "jobs_df.describe()"
   ]
  },
  {
   "cell_type": "markdown",
   "metadata": {},
   "source": [
    "## Initial Observations and Notes\n",
    "\n",
    "- The dataset contains **862 rows** and **10 columns**.\n",
    "- Some columns such as `companyName`, `publishedAt`, and `sector` contain missing values.\n",
    "- Columns like `applicationsCount` and `publishedAt` may need data type conversions in the next version.\n",
    "- No immediate data loading issues were encountered.\n"
   ]
  },
  {
   "cell_type": "markdown",
   "metadata": {},
   "source": [
    "#### Notebook Version: v2  \n",
    "**Focus**: Data Cleaning and Formatting  \n",
    " \n",
    "This version focuses on cleaning the dataset, handling missing values, renaming columns, correcting data types, and preparing the data for analysis.\n"
   ]
  },
  {
   "cell_type": "code",
   "execution_count": null,
   "metadata": {
    "execution": {
     "iopub.execute_input": "2025-07-31T15:54:23.786929Z",
     "iopub.status.busy": "2025-07-31T15:54:23.786696Z",
     "iopub.status.idle": "2025-07-31T15:54:23.795735Z",
     "shell.execute_reply": "2025-07-31T15:54:23.795050Z",
     "shell.execute_reply.started": "2025-07-31T15:54:23.786914Z"
    },
    "trusted": true
   },
   "outputs": [],
   "source": [
    "#previewing the data again\n",
    "jobs_df.head(3)"
   ]
  },
  {
   "cell_type": "markdown",
   "metadata": {},
   "source": [
    "## Handling missing/null values"
   ]
  },
  {
   "cell_type": "code",
   "execution_count": null,
   "metadata": {
    "execution": {
     "iopub.execute_input": "2025-08-01T05:43:20.005590Z",
     "iopub.status.busy": "2025-08-01T05:43:20.004854Z",
     "iopub.status.idle": "2025-08-01T05:43:20.015424Z",
     "shell.execute_reply": "2025-08-01T05:43:20.014484Z",
     "shell.execute_reply.started": "2025-08-01T05:43:20.005554Z"
    },
    "trusted": true
   },
   "outputs": [],
   "source": [
    "#checking for null values if any\n",
    "jobs_df.isna().sum()"
   ]
  },
  {
   "cell_type": "markdown",
   "metadata": {},
   "source": [
    "## Data Type Fix"
   ]
  },
  {
   "cell_type": "code",
   "execution_count": null,
   "metadata": {
    "execution": {
     "iopub.execute_input": "2025-08-01T08:11:21.478233Z",
     "iopub.status.busy": "2025-08-01T08:11:21.477925Z",
     "iopub.status.idle": "2025-08-01T08:11:21.503128Z",
     "shell.execute_reply": "2025-08-01T08:11:21.502068Z",
     "shell.execute_reply.started": "2025-08-01T08:11:21.478210Z"
    },
    "trusted": true
   },
   "outputs": [],
   "source": [
    "#handling null values\n",
    "\n",
    "#filling the null values in columns 'companyName' and 'experienceLevel' as 'Unknown'\n",
    "jobs_df[['companyName','sector']] = jobs_df[['companyName','sector']].fillna('Unknown')\n",
    "\n",
    "#handling the null value for column 'publishedAt' using ffill() assuming that the post has been updated nearly at that date\n",
    "jobs_df['publishedAt'] = jobs_df['publishedAt'].fillna(method='ffill')\n",
    "\n",
    "#check if null value still exists\n",
    "jobs_df.isna().sum()\n"
   ]
  },
  {
   "cell_type": "markdown",
   "metadata": {},
   "source": [
    "#### NOTE:\n",
    "Filled publishedAt using forward fill to maintain temporal continuity, assuming listings are updated close to previous records."
   ]
  },
  {
   "cell_type": "code",
   "execution_count": null,
   "metadata": {
    "execution": {
     "iopub.execute_input": "2025-08-01T05:43:30.533902Z",
     "iopub.status.busy": "2025-08-01T05:43:30.533623Z",
     "iopub.status.idle": "2025-08-01T05:43:30.544432Z",
     "shell.execute_reply": "2025-08-01T05:43:30.543746Z",
     "shell.execute_reply.started": "2025-08-01T05:43:30.533881Z"
    },
    "trusted": true
   },
   "outputs": [],
   "source": [
    "#checking for the datatypes \n",
    "jobs_df.info()"
   ]
  },
  {
   "cell_type": "code",
   "execution_count": null,
   "metadata": {
    "execution": {
     "iopub.execute_input": "2025-08-01T08:11:31.052911Z",
     "iopub.status.busy": "2025-08-01T08:11:31.052574Z",
     "iopub.status.idle": "2025-08-01T08:11:31.076824Z",
     "shell.execute_reply": "2025-08-01T08:11:31.075775Z",
     "shell.execute_reply.started": "2025-08-01T08:11:31.052886Z"
    },
    "trusted": true
   },
   "outputs": [],
   "source": [
    "# converting 'publishedAt' into datetime data type  \n",
    "jobs_df['publishedAt'] = pd.to_datetime(jobs_df['publishedAt'])\n",
    "\n",
    "# converting 'applicationsCount' into integer data type\n",
    "#first we need to extract the count of the applications \n",
    "jobs_df['applicationsCount'] = jobs_df['applicationsCount'].str.extract(r'(\\d+)')[0]\n",
    "\n",
    "#now convert the 'applicationsCount' dtype to numeric\n",
    "jobs_df['applicationsCount'] = pd.to_numeric(jobs_df['applicationsCount'])\n",
    "jobs_df.info()\n"
   ]
  },
  {
   "cell_type": "markdown",
   "metadata": {},
   "source": [
    "## Removing the columns that are not useful for my analysis"
   ]
  },
  {
   "cell_type": "code",
   "execution_count": null,
   "metadata": {
    "execution": {
     "iopub.execute_input": "2025-08-01T08:11:35.143599Z",
     "iopub.status.busy": "2025-08-01T08:11:35.142921Z",
     "iopub.status.idle": "2025-08-01T08:11:35.161920Z",
     "shell.execute_reply": "2025-08-01T08:11:35.160964Z",
     "shell.execute_reply.started": "2025-08-01T08:11:35.143568Z"
    },
    "trusted": true
   },
   "outputs": [],
   "source": [
    "#making a new df to store only the columns that are useful for my analysis\n",
    "\n",
    "updated_jobs = jobs_df.drop(columns=['description','sector','workType'])\n",
    "updated_jobs"
   ]
  },
  {
   "cell_type": "markdown",
   "metadata": {},
   "source": [
    "## Duplicate Check and Removal"
   ]
  },
  {
   "cell_type": "code",
   "execution_count": null,
   "metadata": {
    "execution": {
     "iopub.execute_input": "2025-08-01T08:11:39.168116Z",
     "iopub.status.busy": "2025-08-01T08:11:39.167438Z",
     "iopub.status.idle": "2025-08-01T08:11:39.184302Z",
     "shell.execute_reply": "2025-08-01T08:11:39.183268Z",
     "shell.execute_reply.started": "2025-08-01T08:11:39.168085Z"
    },
    "trusted": true
   },
   "outputs": [],
   "source": [
    "# checking the duplicate values that exists (based on all columns)\n",
    "# updated_jobs.duplicated().sum()\n",
    "updated_jobs[updated_jobs.duplicated()]\n",
    "\n",
    "# dropping the duplicated values\n",
    "updated_jobs.drop_duplicates(inplace=True)\n",
    "\n",
    "# check if any row exist that have same title,companyName, location and publishedAt\n",
    "updated_jobs.duplicated(subset=['title', 'companyName', 'location', 'publishedAt']).sum()\n",
    "\n",
    "# removing the dupliacted values\n",
    "duplicate_vals = updated_jobs.duplicated(subset=['title', 'companyName', 'location', 'publishedAt'])\n",
    "updated_jobs = updated_jobs[~duplicate_vals].copy()\n",
    "\n",
    "#resetting the index after droppingt the duplicate values\n",
    "updated_jobs.reset_index(drop=True,inplace=True)"
   ]
  },
  {
   "cell_type": "markdown",
   "metadata": {},
   "source": [
    "## Whitespace Stripping \n",
    "\n"
   ]
  },
  {
   "cell_type": "code",
   "execution_count": null,
   "metadata": {
    "execution": {
     "iopub.execute_input": "2025-08-01T08:11:42.770824Z",
     "iopub.status.busy": "2025-08-01T08:11:42.770465Z",
     "iopub.status.idle": "2025-08-01T08:11:42.780865Z",
     "shell.execute_reply": "2025-08-01T08:11:42.779968Z",
     "shell.execute_reply.started": "2025-08-01T08:11:42.770788Z"
    },
    "trusted": true
   },
   "outputs": [],
   "source": [
    "#stripping the whitespaces if any, from the string based columns\n",
    "\n",
    "for col in ['title','companyName','location','experienceLevel','contractType']:\n",
    "    updated_jobs[col] = updated_jobs[col].str.strip()\n",
    "\n"
   ]
  },
  {
   "cell_type": "markdown",
   "metadata": {},
   "source": [
    "## Category Cleaning"
   ]
  },
  {
   "cell_type": "code",
   "execution_count": null,
   "metadata": {
    "execution": {
     "iopub.execute_input": "2025-08-01T08:11:45.826863Z",
     "iopub.status.busy": "2025-08-01T08:11:45.826474Z",
     "iopub.status.idle": "2025-08-01T08:11:45.854599Z",
     "shell.execute_reply": "2025-08-01T08:11:45.853535Z",
     "shell.execute_reply.started": "2025-08-01T08:11:45.826804Z"
    },
    "trusted": true
   },
   "outputs": [],
   "source": [
    "#1. title\n",
    "# for consistency I am converting the titles into title case\n",
    "updated_jobs['title'] = updated_jobs['title'].str.title()\n",
    "\n",
    "#check if the function is applied properly\n",
    "updated_jobs['title'].head(3)\n",
    "\n",
    "#2. location\n",
    "# I will be splitting the location column into two parts: one is for city and other is for state\n",
    "location_split = updated_jobs['location'].str.split(',',n=1,expand=True)\n",
    "\n",
    "#adding the city column\n",
    "updated_jobs['city'] = location_split[0].str.strip()\n",
    "\n",
    "#adding the state column\n",
    "updated_jobs['state'] = location_split[1].str.strip()\n",
    "\n",
    "#check if any null value has been added due to the above two columns\n",
    "updated_jobs.isna().sum()\n",
    "\n",
    "#handle the null values\n",
    "updated_jobs['state'] = updated_jobs['state'].fillna('Unknown')\n",
    "\n",
    "#rechecking for null values\n",
    "updated_jobs.isna().sum()\n",
    "\n",
    "#removing the location column as it is no more useful\n",
    "updated_jobs.drop('location',axis='columns',inplace=True)\n",
    "\n",
    "#3. publishedAt\n",
    "# I will be asplitting this column also into two parts year and month (day is not useful)\n",
    "\n",
    "updated_jobs['year'] = updated_jobs['publishedAt'].dt.year\n",
    "updated_jobs['month'] = updated_jobs['publishedAt'].dt.month\n",
    "\n",
    "#dropping the publishedAt column because it is not useful\n",
    "updated_jobs.drop('publishedAt',axis='columns',inplace=True)\n",
    "updated_jobs.columns\n",
    "\n",
    "#4. companyName\n",
    "# converting the company's name into title case so that it remains consistent throughout\n",
    "updated_jobs['companyName'] = updated_jobs['companyName'].str.title()\n",
    "\n",
    "#check if the change has been made properly\n",
    "updated_jobs['companyName'].head(5)"
   ]
  },
  {
   "cell_type": "markdown",
   "metadata": {},
   "source": [
    "## Dataset Cleaning and Structuring Summary\n",
    "\n",
    "In this version, I focused on cleaning and structuring the dataset to prepare it for meaningful analysis. The original dataset had multiple inconsistencies and mixed-format fields which could hinder exploration and insights.\n",
    "\n",
    "## 🚀 Key actions\n",
    "- Selected 7 relevant columns for the analysis.\n",
    "- Cleaned categorical columns (`title`, `companyName`, `location`) for consistency.\n",
    "- Split complex fields like `location` and `publishedAt` into simpler, analyzable components (city, state, year, month).\n",
    "- Handled missing values in `state` by filling with \"Unknown\".\n",
    "\n",
    "## ⚠️ Challenges\n",
    "- Some job titles were overly specific or inconsistent (e.g., different casing, role modifiers). I resolved this with title casing but might need more grouping later.\n",
    "- The `location` field didn’t follow a uniform format in all rows — some were missing state info, which led to NaN values after splitting.\n",
    "- The `publishedAt` field contained full timestamps, which were not useful at this stage. It took care to isolate only the useful components (year/month) without losing meaning.\n",
    "\n",
    "## 🎯 Learnings\n",
    "- Even basic string cleaning and formatting (like `.str.title()` or `.str.strip()`) can greatly improve consistency in the dataset.\n",
    "- Breaking down complex columns (like `location` and `publishedAt`) can make future analysis smoother and more insightful.\n",
    "- It's important to analyze columns one by one instead of applying generic cleaning — each column may need unique handling.\n",
    "\n"
   ]
  },
  {
   "cell_type": "markdown",
   "metadata": {},
   "source": [
    "# Notebook Version: v3  \n",
    "**Focus**: Exploratory Data Analysis (EDA)\n",
    "\n",
    "This version focuses on asking structured and slightly deeper questions to understand the dataset better.  \n",
    "I'm primarily focusing on categorical patterns, hiring distributions, and application behavior.  \n",
    "We'll go from basic univariate counts to intermediate bivariate groupings (without visuals, which are reserved for v4).\n",
    "\n",
    "> Note: `title` and `sector` are *not* taken up in this version intentionally.  \n",
    "> - `title` is too noisy to analyze meaningfully without cleanup — we’ll handle that in **v5**.  \n",
    "> - `sector` is reserved for **v5** as well, to avoid overloading this version and to keep v3 beginner-friendly.\n",
    "\n"
   ]
  },
  {
   "cell_type": "markdown",
   "metadata": {},
   "source": [
    "### 1. Exploring Unique Values in Categorical Columns"
   ]
  },
  {
   "cell_type": "code",
   "execution_count": null,
   "metadata": {
    "execution": {
     "iopub.execute_input": "2025-08-01T08:11:54.411778Z",
     "iopub.status.busy": "2025-08-01T08:11:54.411411Z",
     "iopub.status.idle": "2025-08-01T08:11:54.421932Z",
     "shell.execute_reply": "2025-08-01T08:11:54.420725Z",
     "shell.execute_reply.started": "2025-08-01T08:11:54.411751Z"
    },
    "trusted": true
   },
   "outputs": [],
   "source": [
    "#finding number of unique values in categorical columns\n",
    "print('Unique values in categorical column:')\n",
    "print(updated_jobs[['contractType','experienceLevel','month','year']].nunique())"
   ]
  },
  {
   "cell_type": "markdown",
   "metadata": {},
   "source": [
    "### 2. Top 10 Most Common Job Titles"
   ]
  },
  {
   "cell_type": "code",
   "execution_count": null,
   "metadata": {
    "execution": {
     "iopub.execute_input": "2025-08-01T08:11:58.007107Z",
     "iopub.status.busy": "2025-08-01T08:11:58.006418Z",
     "iopub.status.idle": "2025-08-01T08:11:58.014425Z",
     "shell.execute_reply": "2025-08-01T08:11:58.013216Z",
     "shell.execute_reply.started": "2025-08-01T08:11:58.007077Z"
    },
    "trusted": true
   },
   "outputs": [],
   "source": [
    "#top 10 most common job titles\n",
    "common_title = updated_jobs['title'].value_counts().head(10)\n",
    "print('Top 10 most common job titles')\n",
    "print(common_title)"
   ]
  },
  {
   "cell_type": "markdown",
   "metadata": {},
   "source": [
    "This gives a sense of which roles are being advertised the most — though detailed title analysis will be taken in v5.\n"
   ]
  },
  {
   "cell_type": "markdown",
   "metadata": {},
   "source": [
    "###  3. Companies Posting the Most Jobs"
   ]
  },
  {
   "cell_type": "code",
   "execution_count": null,
   "metadata": {
    "execution": {
     "iopub.execute_input": "2025-08-01T07:53:37.467069Z",
     "iopub.status.busy": "2025-08-01T07:53:37.466775Z",
     "iopub.status.idle": "2025-08-01T07:53:37.474625Z",
     "shell.execute_reply": "2025-08-01T07:53:37.473482Z",
     "shell.execute_reply.started": "2025-08-01T07:53:37.467047Z"
    },
    "trusted": true
   },
   "outputs": [],
   "source": [
    "#companies that have posted the most job listings\n",
    "print('Companies that have posted the most job listings')\n",
    "print(updated_jobs['companyName'].value_counts().head(10))"
   ]
  },
  {
   "cell_type": "markdown",
   "metadata": {},
   "source": [
    "Companies with the most job listings often reflect dominant hiring brands in the market.\n"
   ]
  },
  {
   "cell_type": "markdown",
   "metadata": {},
   "source": [
    "###  4. Top 5 Hiring Cities (with Cleaning)"
   ]
  },
  {
   "cell_type": "code",
   "execution_count": null,
   "metadata": {
    "execution": {
     "iopub.execute_input": "2025-08-01T07:55:04.546155Z",
     "iopub.status.busy": "2025-08-01T07:55:04.545810Z",
     "iopub.status.idle": "2025-08-01T07:55:04.557162Z",
     "shell.execute_reply": "2025-08-01T07:55:04.555975Z",
     "shell.execute_reply.started": "2025-08-01T07:55:04.546126Z"
    },
    "trusted": true
   },
   "outputs": [],
   "source": [
    "#cities that are hiring the most(top 5)\n",
    "\n",
    "#NOTE: alot of records have United States as a city but that is a wrong value, thus replacing it with 'Unknown'\n",
    "updated_jobs['city'] = updated_jobs['city'].replace('United States','Unknown')\n",
    "updated_jobs['city'].value_counts()\n",
    "\n",
    "#NOTE: majority of companies have not entered the city, thus we will be ignoring it and will show the actual city names\n",
    "hiring_cities = updated_jobs['city'][updated_jobs['city'] != 'Unknown']\n",
    "hiring_cities.reset_index(drop=True, inplace=True)\n",
    "print('Top 5 cities in US that are hiring the most')\n",
    "print(hiring_cities.value_counts().head())"
   ]
  },
  {
   "cell_type": "markdown",
   "metadata": {},
   "source": [
    "I noticed that many job listings have 'United States' or missing city data, so I cleaned it for more realistic counts.\n",
    "(Probably missed in v2 while cleaning the data)"
   ]
  },
  {
   "cell_type": "markdown",
   "metadata": {},
   "source": [
    "###  5. Most Common Contract Type & Experience Level"
   ]
  },
  {
   "cell_type": "code",
   "execution_count": null,
   "metadata": {
    "execution": {
     "iopub.execute_input": "2025-08-01T07:59:49.666671Z",
     "iopub.status.busy": "2025-08-01T07:59:49.666385Z",
     "iopub.status.idle": "2025-08-01T07:59:49.674929Z",
     "shell.execute_reply": "2025-08-01T07:59:49.673752Z",
     "shell.execute_reply.started": "2025-08-01T07:59:49.666648Z"
    },
    "trusted": true
   },
   "outputs": [],
   "source": [
    "#most common contractType\n",
    "print('Most common contract type: ')\n",
    "print(updated_jobs['contractType'].value_counts().head(1).index[0])\n",
    "print()\n",
    "\n",
    "#experience level that is highest in demand\n",
    "print('Experience level that is highest in demand ')\n",
    "print(updated_jobs['experienceLevel'].value_counts())"
   ]
  },
  {
   "cell_type": "markdown",
   "metadata": {},
   "source": [
    "Basic univariate checks to understand the dominant job types and demanded experience levels.\n"
   ]
  },
  {
   "cell_type": "markdown",
   "metadata": {},
   "source": [
    "###  6. Average Application Count"
   ]
  },
  {
   "cell_type": "code",
   "execution_count": null,
   "metadata": {
    "execution": {
     "iopub.execute_input": "2025-08-01T08:01:43.257495Z",
     "iopub.status.busy": "2025-08-01T08:01:43.257221Z",
     "iopub.status.idle": "2025-08-01T08:01:43.263130Z",
     "shell.execute_reply": "2025-08-01T08:01:43.262043Z",
     "shell.execute_reply.started": "2025-08-01T08:01:43.257476Z"
    },
    "trusted": true
   },
   "outputs": [],
   "source": [
    "#average of application counts\n",
    "print('Average of application counts:')\n",
    "print(updated_jobs['applicationsCount'].mean())"
   ]
  },
  {
   "cell_type": "markdown",
   "metadata": {},
   "source": [
    "This shows how saturated the job market is — a very high mean might suggest few postings with extreme competition.\n"
   ]
  },
  {
   "cell_type": "markdown",
   "metadata": {},
   "source": [
    "### 7. Company with Highest/Lowest Application Count"
   ]
  },
  {
   "cell_type": "code",
   "execution_count": null,
   "metadata": {
    "execution": {
     "iopub.execute_input": "2025-08-01T08:03:08.414150Z",
     "iopub.status.busy": "2025-08-01T08:03:08.413835Z",
     "iopub.status.idle": "2025-08-01T08:03:08.427039Z",
     "shell.execute_reply": "2025-08-01T08:03:08.426208Z",
     "shell.execute_reply.started": "2025-08-01T08:03:08.414126Z"
    },
    "trusted": true
   },
   "outputs": [],
   "source": [
    "#company that recieved highest and lowest number of applications\n",
    "\n",
    "#grouping the company with the total number of application count\n",
    "job_app_count = updated_jobs.groupby('companyName').agg({'applicationsCount':'sum'})\n",
    "\n",
    "#extracting the max and min count\n",
    "max_val = job_app_count['applicationsCount'].max()\n",
    "min_val = job_app_count['applicationsCount'].min()\n",
    "\n",
    "#extracting the company names\n",
    "print(\"Company that recieved highest applications\")\n",
    "highest_company = job_app_count[job_app_count['applicationsCount'] == max_val]\n",
    "print(highest_company)\n",
    "print()\n",
    "\n",
    "lowest_company = job_app_count[job_app_count['applicationsCount'] == min_val]\n",
    "print(\"Top 5 companies that got lowest application count\")\n",
    "print(lowest_company.head())\n",
    "print()\n",
    "#NOTE! : there are alot of companies that have got the minimum(25) number of applications, so showing only 5 of them"
   ]
  },
  {
   "cell_type": "markdown",
   "metadata": {},
   "source": [
    "This indicates which companies attract more attention from applicants — maybe due to reputation or role type.\n"
   ]
  },
  {
   "cell_type": "markdown",
   "metadata": {},
   "source": [
    "### 8. Application Count by Experience Level"
   ]
  },
  {
   "cell_type": "code",
   "execution_count": null,
   "metadata": {
    "execution": {
     "iopub.execute_input": "2025-08-01T08:12:04.642817Z",
     "iopub.status.busy": "2025-08-01T08:12:04.642471Z",
     "iopub.status.idle": "2025-08-01T08:12:04.653709Z",
     "shell.execute_reply": "2025-08-01T08:12:04.652526Z",
     "shell.execute_reply.started": "2025-08-01T08:12:04.642792Z"
    },
    "trusted": true
   },
   "outputs": [],
   "source": [
    "#application count distribution by experience level\n",
    "print('Application count distribution by experience level')\n",
    "exp_app_count = updated_jobs.groupby('experienceLevel').agg({'applicationsCount':'sum'})\n",
    "print(exp_app_count)"
   ]
  },
  {
   "cell_type": "markdown",
   "metadata": {},
   "source": [
    "Helpful to understand if juniors or seniors are attracting more applications.\n"
   ]
  },
  {
   "cell_type": "markdown",
   "metadata": {},
   "source": [
    "### 9. Contract Types Getting the Most Applications"
   ]
  },
  {
   "cell_type": "code",
   "execution_count": null,
   "metadata": {
    "execution": {
     "iopub.execute_input": "2025-08-01T08:13:16.433430Z",
     "iopub.status.busy": "2025-08-01T08:13:16.433133Z",
     "iopub.status.idle": "2025-08-01T08:13:16.443426Z",
     "shell.execute_reply": "2025-08-01T08:13:16.442393Z",
     "shell.execute_reply.started": "2025-08-01T08:13:16.433408Z"
    },
    "trusted": true
   },
   "outputs": [],
   "source": [
    "#contractType that are getting the highest number of applications\n",
    "print('Contract type that are getting the highest number of applications')\n",
    "contract_app_count = updated_jobs.groupby('contractType').agg({'applicationsCount':'sum'})\n",
    "highest_count = contract_app_count['applicationsCount'].max()\n",
    "highest_contract_val = contract_app_count[contract_app_count['applicationsCount']==highest_count]\n",
    "print(highest_contract_val)"
   ]
  },
  {
   "cell_type": "markdown",
   "metadata": {},
   "source": [
    "Applicants are applying more for full time contract type as compared to other types of contract"
   ]
  },
  {
   "cell_type": "markdown",
   "metadata": {},
   "source": [
    "### 10. Experience Level vs Contract Type "
   ]
  },
  {
   "cell_type": "code",
   "execution_count": null,
   "metadata": {
    "execution": {
     "iopub.execute_input": "2025-08-01T08:15:21.989197Z",
     "iopub.status.busy": "2025-08-01T08:15:21.988791Z",
     "iopub.status.idle": "2025-08-01T08:15:22.006208Z",
     "shell.execute_reply": "2025-08-01T08:15:22.005230Z",
     "shell.execute_reply.started": "2025-08-01T08:15:21.989169Z"
    },
    "trusted": true
   },
   "outputs": [],
   "source": [
    "#which experience level are linked more with which contract type\n",
    "exp_contract = updated_jobs.groupby(['experienceLevel', 'contractType']).size().unstack().fillna(0)\n",
    "print(\"Experience vs Contract Type distribution:\")\n",
    "print(exp_contract)"
   ]
  },
  {
   "cell_type": "markdown",
   "metadata": {},
   "source": [
    "Cross-sectional view of how contract types differ across experience levels. This helps in understanding how experience level varies with contract type"
   ]
  },
  {
   "cell_type": "markdown",
   "metadata": {},
   "source": [
    "### 11. Underperforming Contract Types"
   ]
  },
  {
   "cell_type": "code",
   "execution_count": null,
   "metadata": {
    "execution": {
     "iopub.execute_input": "2025-08-01T08:17:23.037354Z",
     "iopub.status.busy": "2025-08-01T08:17:23.036983Z",
     "iopub.status.idle": "2025-08-01T08:17:23.050448Z",
     "shell.execute_reply": "2025-08-01T08:17:23.049535Z",
     "shell.execute_reply.started": "2025-08-01T08:17:23.037326Z"
    },
    "trusted": true
   },
   "outputs": [],
   "source": [
    "#Contract types with high postings but fewer average applications:\n",
    "\n",
    "avg_app_per_contract = updated_jobs.groupby('contractType').agg({\n",
    "    'applicationsCount': 'mean',\n",
    "    'contractType': 'count'\n",
    "}).rename(columns={'contractType': 'jobCount'}).sort_values(by='applicationsCount')\n",
    "print(\"Avg applications per contract type vs job count:\")\n",
    "print(avg_app_per_contract)"
   ]
  },
  {
   "cell_type": "markdown",
   "metadata": {},
   "source": [
    "This analysis shows which contract types might be oversupplied or under-attractive — useful for recruiters or job portals.\n"
   ]
  },
  {
   "cell_type": "markdown",
   "metadata": {},
   "source": [
    "# Exploratory Data Analysis Summary – Version 3\n",
    "\n",
    "In this version, I focused on exploring the dataset more deeply using beginner to intermediate level EDA (without any visuals).  \n",
    "The goal was to understand how different categorical features like experience level, contract type, city, and applications behave — both on their own and together.\n",
    "\n",
    "\n",
    "### 🔍 What I Did\n",
    "\n",
    "- Checked unique values for key categorical columns: `contractType`, `experienceLevel`, `month`, and `year`.\n",
    "- Found out which companies posted the most jobs and which cities are hiring the most.\n",
    "- Looked at average application counts, plus which companies got the highest and lowest applications, and which contract types are getting the most interest.\n",
    "- Grouped experience levels and contract types to see how they relate to each other.\n",
    "- Identified which job types might be oversaturated (that is, lots of postings but not many applications on average).\n",
    "\n",
    "\n",
    "### ⚠️ What I Didn’t Cover\n",
    "\n",
    "- Skipped the `title` column for now because it’s just too messy — planning to clean and analyze job titles in v5 when I dive into deeper title/trend analysis.\n",
    "- Left out the `sector` column to keep this version beginner-friendly and focused. That'll be part of v5 too.\n",
    "\n",
    "\n",
    "### 🎯 What I Learned\n",
    "\n",
    "- You can pull out a lot of insights just by grouping and aggregating columns — no fancy plots needed.\n",
    "- Application counts alone tell a lot about what job types are getting attraction, and which ones most people are ignoring.\n",
    "\n"
   ]
  }
 ],
 "metadata": {
  "kaggle": {
   "accelerator": "none",
   "dataSources": [
    {
     "datasetId": 5137255,
     "sourceId": 8588840,
     "sourceType": "datasetVersion"
    }
   ],
   "dockerImageVersionId": 31089,
   "isGpuEnabled": false,
   "isInternetEnabled": false,
   "language": "python",
   "sourceType": "notebook"
  },
  "kernelspec": {
   "display_name": "Python 3",
   "language": "python",
   "name": "python3"
  },
  "language_info": {
   "codemirror_mode": {
    "name": "ipython",
    "version": 3
   },
   "file_extension": ".py",
   "mimetype": "text/x-python",
   "name": "python",
   "nbconvert_exporter": "python",
   "pygments_lexer": "ipython3",
   "version": "3.11.13"
  }
 },
 "nbformat": 4,
 "nbformat_minor": 4
}
